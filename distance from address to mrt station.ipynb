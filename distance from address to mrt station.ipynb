{
 "cells": [
  {
   "cell_type": "code",
   "execution_count": 12,
   "metadata": {},
   "outputs": [],
   "source": [
    "import numpy as np\n",
    "import pandas as pd\n",
    "from geopy.distance import geodesic"
   ]
  },
  {
   "cell_type": "code",
   "execution_count": 16,
   "metadata": {},
   "outputs": [],
   "source": [
    "df_address = pd.read_csv('C:/Users/User/Desktop/TP Y2(Sem2)/Data Mining & Business Analytics/Individual Assignment/Dataset(transformed)/address-2017-2021-csv.csv')\n",
    "df_stn = pd.read_csv('C:/Users/User/Desktop/TP Y2(Sem2)/Data Mining & Business Analytics/Individual Assignment/mrtsg.csv')\n"
   ]
  },
  {
   "cell_type": "code",
   "execution_count": 17,
   "metadata": {},
   "outputs": [
    {
     "data": {
      "text/html": [
       "<div>\n",
       "<style scoped>\n",
       "    .dataframe tbody tr th:only-of-type {\n",
       "        vertical-align: middle;\n",
       "    }\n",
       "\n",
       "    .dataframe tbody tr th {\n",
       "        vertical-align: top;\n",
       "    }\n",
       "\n",
       "    .dataframe thead th {\n",
       "        text-align: right;\n",
       "    }\n",
       "</style>\n",
       "<table border=\"1\" class=\"dataframe\">\n",
       "  <thead>\n",
       "    <tr style=\"text-align: right;\">\n",
       "      <th></th>\n",
       "      <th>address</th>\n",
       "      <th>Latitude</th>\n",
       "      <th>Longitude</th>\n",
       "    </tr>\n",
       "  </thead>\n",
       "  <tbody>\n",
       "    <tr>\n",
       "      <th>0</th>\n",
       "      <td>406 ANG MO KIO AVE 10</td>\n",
       "      <td>1.375748</td>\n",
       "      <td>103.854640</td>\n",
       "    </tr>\n",
       "    <tr>\n",
       "      <th>1</th>\n",
       "      <td>108 ANG MO KIO AVE 4</td>\n",
       "      <td>1.369525</td>\n",
       "      <td>103.837238</td>\n",
       "    </tr>\n",
       "    <tr>\n",
       "      <th>2</th>\n",
       "      <td>602 ANG MO KIO AVE 5</td>\n",
       "      <td>1.380760</td>\n",
       "      <td>103.835425</td>\n",
       "    </tr>\n",
       "    <tr>\n",
       "      <th>3</th>\n",
       "      <td>465 ANG MO KIO AVE 10</td>\n",
       "      <td>1.366213</td>\n",
       "      <td>103.857175</td>\n",
       "    </tr>\n",
       "    <tr>\n",
       "      <th>4</th>\n",
       "      <td>601 ANG MO KIO AVE 5</td>\n",
       "      <td>1.380987</td>\n",
       "      <td>103.835076</td>\n",
       "    </tr>\n",
       "  </tbody>\n",
       "</table>\n",
       "</div>"
      ],
      "text/plain": [
       "                 address  Latitude   Longitude\n",
       "0  406 ANG MO KIO AVE 10  1.375748  103.854640\n",
       "1   108 ANG MO KIO AVE 4  1.369525  103.837238\n",
       "2   602 ANG MO KIO AVE 5  1.380760  103.835425\n",
       "3  465 ANG MO KIO AVE 10  1.366213  103.857175\n",
       "4   601 ANG MO KIO AVE 5  1.380987  103.835076"
      ]
     },
     "execution_count": 17,
     "metadata": {},
     "output_type": "execute_result"
    }
   ],
   "source": [
    "df_address.head()"
   ]
  },
  {
   "cell_type": "code",
   "execution_count": 18,
   "metadata": {},
   "outputs": [
    {
     "data": {
      "text/html": [
       "<div>\n",
       "<style scoped>\n",
       "    .dataframe tbody tr th:only-of-type {\n",
       "        vertical-align: middle;\n",
       "    }\n",
       "\n",
       "    .dataframe tbody tr th {\n",
       "        vertical-align: top;\n",
       "    }\n",
       "\n",
       "    .dataframe thead th {\n",
       "        text-align: right;\n",
       "    }\n",
       "</style>\n",
       "<table border=\"1\" class=\"dataframe\">\n",
       "  <thead>\n",
       "    <tr style=\"text-align: right;\">\n",
       "      <th></th>\n",
       "      <th>STN_NAME</th>\n",
       "      <th>Latitude</th>\n",
       "      <th>Longitude</th>\n",
       "    </tr>\n",
       "  </thead>\n",
       "  <tbody>\n",
       "    <tr>\n",
       "      <th>0</th>\n",
       "      <td>ADMIRALTY MRT STATION</td>\n",
       "      <td>1.440585</td>\n",
       "      <td>103.800998</td>\n",
       "    </tr>\n",
       "    <tr>\n",
       "      <th>1</th>\n",
       "      <td>ALJUNIED MRT STATION</td>\n",
       "      <td>1.316433</td>\n",
       "      <td>103.882893</td>\n",
       "    </tr>\n",
       "    <tr>\n",
       "      <th>2</th>\n",
       "      <td>ANG MO KIO MRT STATION</td>\n",
       "      <td>1.369933</td>\n",
       "      <td>103.849553</td>\n",
       "    </tr>\n",
       "    <tr>\n",
       "      <th>3</th>\n",
       "      <td>BAKAU LRT STATION</td>\n",
       "      <td>1.388093</td>\n",
       "      <td>103.905418</td>\n",
       "    </tr>\n",
       "    <tr>\n",
       "      <th>4</th>\n",
       "      <td>BANGKIT LRT STATION</td>\n",
       "      <td>1.380018</td>\n",
       "      <td>103.772667</td>\n",
       "    </tr>\n",
       "  </tbody>\n",
       "</table>\n",
       "</div>"
      ],
      "text/plain": [
       "                 STN_NAME  Latitude   Longitude\n",
       "0   ADMIRALTY MRT STATION  1.440585  103.800998\n",
       "1    ALJUNIED MRT STATION  1.316433  103.882893\n",
       "2  ANG MO KIO MRT STATION  1.369933  103.849553\n",
       "3       BAKAU LRT STATION  1.388093  103.905418\n",
       "4     BANGKIT LRT STATION  1.380018  103.772667"
      ]
     },
     "execution_count": 18,
     "metadata": {},
     "output_type": "execute_result"
    }
   ],
   "source": [
    "df_stn.head()"
   ]
  },
  {
   "cell_type": "code",
   "execution_count": 19,
   "metadata": {},
   "outputs": [],
   "source": [
    "# function to compute distance between 2 points \n",
    "\n",
    "def compute_distance(address_row, df_stn):\n",
    "    address_lat, address_lng = address_row[['Latitude','Longitude']]\n",
    "    min_distance = 9999.0\n",
    "    for stn_lat, stn_lng in zip(df_stn['Latitude'], df_stn['Longitude']):\n",
    "        distance = geodesic((address_lat, address_lng), (stn_lat, stn_lng)).km\n",
    "        if distance < min_distance:\n",
    "            min_distance = distance\n",
    "    return min_distance"
   ]
  },
  {
   "cell_type": "code",
   "execution_count": 20,
   "metadata": {},
   "outputs": [],
   "source": [
    "distance_series = df_address.apply(compute_distance, axis=1, df_stn=df_stn)"
   ]
  },
  {
   "cell_type": "code",
   "execution_count": 21,
   "metadata": {},
   "outputs": [],
   "source": [
    "df_output = pd.DataFrame({'address': df_address['address'], 'km_to_mrt': distance_series})\n",
    "df_output.to_csv('address_to_nearest_stn_dist.csv', index=False)"
   ]
  },
  {
   "cell_type": "code",
   "execution_count": null,
   "metadata": {},
   "outputs": [],
   "source": []
  }
 ],
 "metadata": {
  "kernelspec": {
   "display_name": "Python 3",
   "language": "python",
   "name": "python3"
  },
  "language_info": {
   "codemirror_mode": {
    "name": "ipython",
    "version": 3
   },
   "file_extension": ".py",
   "mimetype": "text/x-python",
   "name": "python",
   "nbconvert_exporter": "python",
   "pygments_lexer": "ipython3",
   "version": "3.8.3"
  }
 },
 "nbformat": 4,
 "nbformat_minor": 4
}
