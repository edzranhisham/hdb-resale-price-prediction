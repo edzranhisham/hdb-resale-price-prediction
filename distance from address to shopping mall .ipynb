{
 "cells": [
  {
   "cell_type": "code",
   "execution_count": 1,
   "metadata": {},
   "outputs": [],
   "source": [
    "import numpy as np\n",
    "import pandas as pd\n",
    "from geopy.distance import geodesic"
   ]
  },
  {
   "cell_type": "code",
   "execution_count": 2,
   "metadata": {},
   "outputs": [],
   "source": [
    "df_address = pd.read_csv('C:/Users/User/Desktop/TP Y2(Sem2)/Data Mining & Business Analytics/Individual Assignment/Dataset(transformed)/address-2017-2021-csv.csv')\n",
    "df_mall = pd.read_csv('C:/Users/User/Desktop/TP Y2(Sem2)/Data Mining & Business Analytics/Individual Assignment/shopping_malls.csv')\n"
   ]
  },
  {
   "cell_type": "code",
   "execution_count": 3,
   "metadata": {},
   "outputs": [
    {
     "data": {
      "text/html": [
       "<div>\n",
       "<style scoped>\n",
       "    .dataframe tbody tr th:only-of-type {\n",
       "        vertical-align: middle;\n",
       "    }\n",
       "\n",
       "    .dataframe tbody tr th {\n",
       "        vertical-align: top;\n",
       "    }\n",
       "\n",
       "    .dataframe thead th {\n",
       "        text-align: right;\n",
       "    }\n",
       "</style>\n",
       "<table border=\"1\" class=\"dataframe\">\n",
       "  <thead>\n",
       "    <tr style=\"text-align: right;\">\n",
       "      <th></th>\n",
       "      <th>address</th>\n",
       "      <th>Latitude</th>\n",
       "      <th>Longtitude</th>\n",
       "    </tr>\n",
       "  </thead>\n",
       "  <tbody>\n",
       "    <tr>\n",
       "      <th>0</th>\n",
       "      <td>406 ANG MO KIO AVE 10</td>\n",
       "      <td>1.375748</td>\n",
       "      <td>103.854640</td>\n",
       "    </tr>\n",
       "    <tr>\n",
       "      <th>1</th>\n",
       "      <td>108 ANG MO KIO AVE 4</td>\n",
       "      <td>1.369525</td>\n",
       "      <td>103.837238</td>\n",
       "    </tr>\n",
       "    <tr>\n",
       "      <th>2</th>\n",
       "      <td>602 ANG MO KIO AVE 5</td>\n",
       "      <td>1.380760</td>\n",
       "      <td>103.835425</td>\n",
       "    </tr>\n",
       "    <tr>\n",
       "      <th>3</th>\n",
       "      <td>465 ANG MO KIO AVE 10</td>\n",
       "      <td>1.366213</td>\n",
       "      <td>103.857175</td>\n",
       "    </tr>\n",
       "    <tr>\n",
       "      <th>4</th>\n",
       "      <td>601 ANG MO KIO AVE 5</td>\n",
       "      <td>1.380987</td>\n",
       "      <td>103.835076</td>\n",
       "    </tr>\n",
       "  </tbody>\n",
       "</table>\n",
       "</div>"
      ],
      "text/plain": [
       "                 address  Latitude  Longtitude\n",
       "0  406 ANG MO KIO AVE 10  1.375748  103.854640\n",
       "1   108 ANG MO KIO AVE 4  1.369525  103.837238\n",
       "2   602 ANG MO KIO AVE 5  1.380760  103.835425\n",
       "3  465 ANG MO KIO AVE 10  1.366213  103.857175\n",
       "4   601 ANG MO KIO AVE 5  1.380987  103.835076"
      ]
     },
     "execution_count": 3,
     "metadata": {},
     "output_type": "execute_result"
    }
   ],
   "source": [
    "df_address.head()"
   ]
  },
  {
   "cell_type": "code",
   "execution_count": 4,
   "metadata": {},
   "outputs": [
    {
     "name": "stdout",
     "output_type": "stream",
     "text": [
      "<class 'pandas.core.frame.DataFrame'>\n",
      "RangeIndex: 113959 entries, 0 to 113958\n",
      "Data columns (total 3 columns):\n",
      " #   Column      Non-Null Count   Dtype  \n",
      "---  ------      --------------   -----  \n",
      " 0   address     113959 non-null  object \n",
      " 1   Latitude    113959 non-null  float64\n",
      " 2   Longtitude  113959 non-null  float64\n",
      "dtypes: float64(2), object(1)\n",
      "memory usage: 2.6+ MB\n"
     ]
    }
   ],
   "source": [
    "df_address.info()"
   ]
  },
  {
   "cell_type": "code",
   "execution_count": 5,
   "metadata": {},
   "outputs": [
    {
     "data": {
      "text/html": [
       "<div>\n",
       "<style scoped>\n",
       "    .dataframe tbody tr th:only-of-type {\n",
       "        vertical-align: middle;\n",
       "    }\n",
       "\n",
       "    .dataframe tbody tr th {\n",
       "        vertical-align: top;\n",
       "    }\n",
       "\n",
       "    .dataframe thead th {\n",
       "        text-align: right;\n",
       "    }\n",
       "</style>\n",
       "<table border=\"1\" class=\"dataframe\">\n",
       "  <thead>\n",
       "    <tr style=\"text-align: right;\">\n",
       "      <th></th>\n",
       "      <th>Shopping Mall</th>\n",
       "      <th>Latitude</th>\n",
       "      <th>Longtitude</th>\n",
       "    </tr>\n",
       "  </thead>\n",
       "  <tbody>\n",
       "    <tr>\n",
       "      <th>0</th>\n",
       "      <td>100 AM</td>\n",
       "      <td>1.274588</td>\n",
       "      <td>103.843471</td>\n",
       "    </tr>\n",
       "    <tr>\n",
       "      <th>1</th>\n",
       "      <td>313@Somerset</td>\n",
       "      <td>1.301385</td>\n",
       "      <td>103.837684</td>\n",
       "    </tr>\n",
       "    <tr>\n",
       "      <th>2</th>\n",
       "      <td>Aperia</td>\n",
       "      <td>1.310867</td>\n",
       "      <td>103.863930</td>\n",
       "    </tr>\n",
       "    <tr>\n",
       "      <th>3</th>\n",
       "      <td>Balestier Hill Shopping Centre</td>\n",
       "      <td>1.326163</td>\n",
       "      <td>103.843741</td>\n",
       "    </tr>\n",
       "    <tr>\n",
       "      <th>4</th>\n",
       "      <td>Bugis Cube</td>\n",
       "      <td>1.298141</td>\n",
       "      <td>103.855635</td>\n",
       "    </tr>\n",
       "  </tbody>\n",
       "</table>\n",
       "</div>"
      ],
      "text/plain": [
       "                    Shopping Mall  Latitude  Longtitude\n",
       "0                          100 AM  1.274588  103.843471\n",
       "1                    313@Somerset  1.301385  103.837684\n",
       "2                          Aperia  1.310867  103.863930\n",
       "3  Balestier Hill Shopping Centre  1.326163  103.843741\n",
       "4                      Bugis Cube  1.298141  103.855635"
      ]
     },
     "execution_count": 5,
     "metadata": {},
     "output_type": "execute_result"
    }
   ],
   "source": [
    "df_mall.head()"
   ]
  },
  {
   "cell_type": "code",
   "execution_count": 6,
   "metadata": {},
   "outputs": [],
   "source": [
    "# function to compute distance between 2 points \n",
    "\n",
    "def compute_distance(address_row, df_mall):\n",
    "    address_lat, address_lng = address_row[['Latitude','Longtitude']]\n",
    "    min_distance = 9999.0\n",
    "    for mall_lat, mall_lng in zip(df_mall['Latitude'], df_mall['Longtitude']):\n",
    "        distance = geodesic((address_lat, address_lng), (mall_lat, mall_lng)).km\n",
    "        if distance < min_distance:\n",
    "            min_distance = distance\n",
    "    return min_distance"
   ]
  },
  {
   "cell_type": "code",
   "execution_count": 7,
   "metadata": {},
   "outputs": [],
   "source": [
    "distance_series = df_address.apply(compute_distance, axis=1, df_mall=df_mall)"
   ]
  },
  {
   "cell_type": "code",
   "execution_count": 8,
   "metadata": {},
   "outputs": [],
   "source": [
    "df_output = pd.DataFrame({'address': df_address['address'], 'km_to_mall': distance_series})\n",
    "df_output.to_csv('address_to_nearest_mall_dist.csv', index=False)"
   ]
  },
  {
   "cell_type": "code",
   "execution_count": null,
   "metadata": {},
   "outputs": [],
   "source": []
  }
 ],
 "metadata": {
  "kernelspec": {
   "display_name": "Python 3",
   "language": "python",
   "name": "python3"
  },
  "language_info": {
   "codemirror_mode": {
    "name": "ipython",
    "version": 3
   },
   "file_extension": ".py",
   "mimetype": "text/x-python",
   "name": "python",
   "nbconvert_exporter": "python",
   "pygments_lexer": "ipython3",
   "version": "3.8.3"
  }
 },
 "nbformat": 4,
 "nbformat_minor": 4
}
